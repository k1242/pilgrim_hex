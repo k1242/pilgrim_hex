{
 "cells": [
  {
   "cell_type": "code",
   "execution_count": 1,
   "id": "199ce0f0",
   "metadata": {
    "ExecuteTime": {
     "end_time": "2024-10-12T23:58:40.251079Z",
     "start_time": "2024-10-12T23:58:38.017250Z"
    }
   },
   "outputs": [],
   "source": [
    "import torch\n",
    "import math\n",
    "import os\n",
    "import json\n",
    "\n",
    "from pilgrim import Trainer, Pilgrim\n",
    "from pilgrim import count_parameters"
   ]
  },
  {
   "cell_type": "code",
   "execution_count": 2,
   "id": "7d0b57f4",
   "metadata": {
    "ExecuteTime": {
     "end_time": "2024-10-12T23:58:40.264941Z",
     "start_time": "2024-10-12T23:58:40.261208Z"
    }
   },
   "outputs": [],
   "source": [
    "device = torch.device(\"cuda\")"
   ]
  },
  {
   "cell_type": "code",
   "execution_count": 9,
   "id": "05034c7b",
   "metadata": {
    "ExecuteTime": {
     "end_time": "2024-10-13T00:01:50.963397Z",
     "start_time": "2024-10-13T00:01:50.940784Z"
    }
   },
   "outputs": [],
   "source": [
    "n = 3\n",
    "N = 3 * n**2 - 3 * n + 1\n",
    "dtype_int = torch.uint8\n",
    "V0 = torch.arange(N, dtype=dtype_int)\n",
    "\n",
    "move_labels = [\"A\", \"1\", \"B\", \"2\", \"C\", \"3\", \"D\", \"4\", \"E\", \"5\", \"F\", \"6\"]\n",
    "with open(f\"generators/{n}.txt\") as f:\n",
    "    generators = f.readline()\n",
    "generators = torch.tensor(eval(generators), dtype=torch.int64)\n",
    "\n",
    "with open(f\"maps/{n}_manhattan.txt\") as f:\n",
    "    manhattan_matrix = f.readline()\n",
    "manhattan_matrix = torch.tensor(eval(manhattan_matrix), dtype=torch.int64).to(device)"
   ]
  },
  {
   "cell_type": "code",
   "execution_count": 10,
   "id": "6d7e0977",
   "metadata": {
    "ExecuteTime": {
     "end_time": "2024-10-13T00:01:51.593746Z",
     "start_time": "2024-10-13T00:01:51.569656Z"
    }
   },
   "outputs": [],
   "source": [
    "hash_vec = torch.randint(0, 10**int(math.log10(2**62 / (N * N))), (N,), device=device)"
   ]
  },
  {
   "cell_type": "code",
   "execution_count": 11,
   "id": "b8486d51",
   "metadata": {
    "ExecuteTime": {
     "end_time": "2024-10-13T00:01:51.898599Z",
     "start_time": "2024-10-13T00:01:51.876698Z"
    }
   },
   "outputs": [
    {
     "data": {
      "text/plain": [
       "450561"
      ]
     },
     "execution_count": 11,
     "metadata": {},
     "output_type": "execute_result"
    }
   ],
   "source": [
    "model = Pilgrim(\n",
    "    state_size=N,\n",
    "    hd1=512,\n",
    "    hd2=512,\n",
    "    nrd=0,\n",
    "    dropout_rate=0,\n",
    "    activation_function='relu'\n",
    ").to(device)\n",
    "count_parameters(model)"
   ]
  },
  {
   "cell_type": "code",
   "execution_count": null,
   "id": "60006812",
   "metadata": {},
   "outputs": [],
   "source": [
    "# Create the trainer\n",
    "trainer = Trainer(\n",
    "    net=model,\n",
    "    num_epochs=1,\n",
    "    device=device,\n",
    "    batch_size=1024,\n",
    "    lr=0.001,\n",
    "    name=f\"p{n}_MLP2\",\n",
    "    K_min=1,\n",
    "    K_max=30,\n",
    "    generators=generators,\n",
    "    V0=V0\n",
    ")"
   ]
  },
  {
   "cell_type": "code",
   "execution_count": null,
   "id": "9f920370",
   "metadata": {},
   "outputs": [],
   "source": []
  },
  {
   "cell_type": "code",
   "execution_count": 8,
   "id": "2de0f5b9",
   "metadata": {
    "ExecuteTime": {
     "end_time": "2024-10-13T00:01:47.322850Z",
     "start_time": "2024-10-13T00:01:47.316101Z"
    }
   },
   "outputs": [
    {
     "data": {
      "text/plain": [
       "37"
      ]
     },
     "execution_count": 8,
     "metadata": {},
     "output_type": "execute_result"
    }
   ],
   "source": [
    "N"
   ]
  }
 ],
 "metadata": {
  "kernelspec": {
   "display_name": "Python (ka1242_env)",
   "language": "python",
   "name": "ka1242_env"
  },
  "language_info": {
   "codemirror_mode": {
    "name": "ipython",
    "version": 3
   },
   "file_extension": ".py",
   "mimetype": "text/x-python",
   "name": "python",
   "nbconvert_exporter": "python",
   "pygments_lexer": "ipython3",
   "version": "3.9.16"
  }
 },
 "nbformat": 4,
 "nbformat_minor": 5
}
