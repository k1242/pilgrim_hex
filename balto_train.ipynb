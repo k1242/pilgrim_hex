{
 "cells": [
  {
   "cell_type": "code",
   "execution_count": 1,
   "id": "b36a363a",
   "metadata": {
    "ExecuteTime": {
     "end_time": "2024-10-13T01:01:35.155443Z",
     "start_time": "2024-10-13T01:01:32.969448Z"
    }
   },
   "outputs": [],
   "source": [
    "import torch\n",
    "import math\n",
    "import os\n",
    "import json\n",
    "\n",
    "from pilgrim import Trainer, Pilgrim\n",
    "from pilgrim import count_parameters"
   ]
  },
  {
   "cell_type": "code",
   "execution_count": 2,
   "id": "bb6645c8",
   "metadata": {
    "ExecuteTime": {
     "end_time": "2024-10-13T01:01:35.162769Z",
     "start_time": "2024-10-13T01:01:35.158902Z"
    }
   },
   "outputs": [],
   "source": [
    "device = torch.device(\"cuda\")"
   ]
  },
  {
   "cell_type": "code",
   "execution_count": 23,
   "id": "6839afae",
   "metadata": {
    "ExecuteTime": {
     "end_time": "2024-10-13T01:17:19.331078Z",
     "start_time": "2024-10-13T01:17:19.322687Z"
    }
   },
   "outputs": [
    {
     "name": "stdout",
     "output_type": "stream",
     "text": [
      "N = 19\n",
      "input size = 304\n"
     ]
    }
   ],
   "source": [
    "n = 3\n",
    "N = 3 * n**2 - 3 * n + 1\n",
    "print(f\"{N = }\")\n",
    "print(f\"input size = {N*16}\")"
   ]
  },
  {
   "cell_type": "code",
   "execution_count": 29,
   "id": "3169fe51",
   "metadata": {
    "ExecuteTime": {
     "end_time": "2024-10-13T01:17:42.698708Z",
     "start_time": "2024-10-13T01:17:42.674381Z"
    }
   },
   "outputs": [
    {
     "data": {
      "text/plain": [
       "486505"
      ]
     },
     "execution_count": 29,
     "metadata": {},
     "output_type": "execute_result"
    }
   ],
   "source": [
    "model = Pilgrim(\n",
    "    state_size=N,\n",
    "    embedding_dim=16,\n",
    "    hd1=600,\n",
    "    hd2=500,\n",
    "    nrd=0,\n",
    "    dropout_rate=0,\n",
    "    activation_function='relu'\n",
    ").to(device)\n",
    "count_parameters(model)"
   ]
  },
  {
   "cell_type": "code",
   "execution_count": 30,
   "id": "a88406da",
   "metadata": {
    "ExecuteTime": {
     "end_time": "2024-10-13T01:17:42.845781Z",
     "start_time": "2024-10-13T01:17:42.825297Z"
    }
   },
   "outputs": [
    {
     "name": "stdout",
     "output_type": "stream",
     "text": [
      "id = 1728782262\n"
     ]
    }
   ],
   "source": [
    "parity = 0\n",
    "\n",
    "trainer = Trainer(\n",
    "    net=model,\n",
    "    n=n,\n",
    "    num_epochs=128,\n",
    "    device=device,\n",
    "    batch_size=2048,\n",
    "    name=f\"balto{n}_MLP2_p{parity}\",\n",
    "    parity=parity,\n",
    "    K_min=1, K_max=30,\n",
    ")\n",
    "print(f\"id = {trainer.id}\")"
   ]
  },
  {
   "cell_type": "code",
   "execution_count": 31,
   "id": "ab2f7170",
   "metadata": {
    "ExecuteTime": {
     "end_time": "2024-10-13T01:23:17.256779Z",
     "start_time": "2024-10-13T01:17:42.965801Z"
    }
   },
   "outputs": [
    {
     "name": "stdout",
     "output_type": "stream",
     "text": [
      "[2024-10-13 03:17:45] Saved weights at epoch     1. Train Loss: 32.54\n",
      "[2024-10-13 03:17:48] Saved weights at epoch     2. Train Loss: 18.47\n",
      "[2024-10-13 03:17:52] Saved weights at epoch     4. Train Loss: 18.03\n",
      "[2024-10-13 03:18:02] Saved weights at epoch     8. Train Loss: 17.76\n",
      "[2024-10-13 03:18:22] Saved weights at epoch    16. Train Loss: 17.27\n",
      "[2024-10-13 03:19:04] Saved weights at epoch    32. Train Loss: 17.03\n",
      "[2024-10-13 03:20:29] Saved weights at epoch    64. Train Loss: 16.73\n",
      "[2024-10-13 03:23:17] Saved weights at epoch   128. Train Loss: 16.43\n",
      "[2024-10-13 03:23:17] Finished. Saved final weights at epoch 128. Train Loss: 16.43.\n"
     ]
    }
   ],
   "source": [
    "trainer.run()"
   ]
  },
  {
   "cell_type": "code",
   "execution_count": null,
   "id": "de965ac1",
   "metadata": {},
   "outputs": [],
   "source": []
  },
  {
   "cell_type": "code",
   "execution_count": null,
   "id": "3104d78a",
   "metadata": {},
   "outputs": [],
   "source": []
  },
  {
   "cell_type": "code",
   "execution_count": null,
   "id": "8d6905f3",
   "metadata": {},
   "outputs": [],
   "source": []
  }
 ],
 "metadata": {
  "kernelspec": {
   "display_name": "Python (ka1242_env)",
   "language": "python",
   "name": "ka1242_env"
  },
  "language_info": {
   "codemirror_mode": {
    "name": "ipython",
    "version": 3
   },
   "file_extension": ".py",
   "mimetype": "text/x-python",
   "name": "python",
   "nbconvert_exporter": "python",
   "pygments_lexer": "ipython3",
   "version": "3.9.16"
  }
 },
 "nbformat": 4,
 "nbformat_minor": 5
}
