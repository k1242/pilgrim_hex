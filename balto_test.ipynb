{
 "cells": [
  {
   "cell_type": "code",
   "execution_count": 1,
   "id": "3589b3c1",
   "metadata": {
    "ExecuteTime": {
     "end_time": "2024-10-13T01:46:14.614791Z",
     "start_time": "2024-10-13T01:46:12.393805Z"
    }
   },
   "outputs": [],
   "source": [
    "import torch\n",
    "from pilgrim import Pilgrim, count_parameters\n",
    "from pilgrim import Searcher\n",
    "\n",
    "import time"
   ]
  },
  {
   "cell_type": "code",
   "execution_count": 2,
   "id": "28905b43",
   "metadata": {
    "ExecuteTime": {
     "end_time": "2024-10-13T01:46:14.621279Z",
     "start_time": "2024-10-13T01:46:14.617318Z"
    }
   },
   "outputs": [],
   "source": [
    "device = torch.device(\"cuda\")"
   ]
  },
  {
   "cell_type": "code",
   "execution_count": 3,
   "id": "5f72cab6",
   "metadata": {
    "ExecuteTime": {
     "end_time": "2024-10-13T01:46:14.627241Z",
     "start_time": "2024-10-13T01:46:14.624089Z"
    }
   },
   "outputs": [],
   "source": [
    "n = 4\n",
    "N = 3 * n**2 - 3 * n + 1"
   ]
  },
  {
   "cell_type": "code",
   "execution_count": 4,
   "id": "646e887f",
   "metadata": {
    "ExecuteTime": {
     "end_time": "2024-10-13T01:46:14.881084Z",
     "start_time": "2024-10-13T01:46:14.628938Z"
    }
   },
   "outputs": [],
   "source": [
    "model = Pilgrim(\n",
    "    state_size=N,\n",
    "    embedding_dim=16,\n",
    "    hd1=600,\n",
    "    hd2=500,\n",
    "    nrd=0,\n",
    "    dropout_rate=0,\n",
    "    activation_function='relu'\n",
    ").to(device)\n",
    "model.load_state_dict(torch.load(\"weights/balto4_MLP2_p0_1728781747_e00128.pth\", weights_only=False, map_location=device))\n",
    "# model.load_state_dict(torch.load(\"weights/balto3_MLP2_p0_1728782262_e00032.pth\", weights_only=False, map_location=device))\n",
    "model.eval();\n",
    "\n",
    "IC = {\n",
    "    3: [0, 15, 13, 8, 14, 17, 9, 16, 10, 18, 4, 12, 3, 7, 2, 5, 11, 6, 1],\n",
    "    4: [32,15,35,24,23,20,36,33,31,29,27,26,30,25,18,2,19,14,7,28,34,5,4,13,0,8,1,11,9,21,3,17,10,12,22,6,16],\n",
    "    5: [52,40,49,42,53,12,54,55,46,22,43,37,41,48,50,60,47,59,28,57,3,15,0,45,27,36,13,17,39,2,25,20,19,56,58,5,26,23,4,24,35,21,44,33,16,29,14,9,31,7,34,11,32,10,30,6,8,1,38,18,51],\n",
    "    6: [71,67,80,79,81,73,45,69,86,88,7,74,85,55,68,47,0,38,62,12,32,64,50,75,59,90,10,78,76,84,63,77,53,19,87,61,23,60,37,44,70,46,82,4,36,43,20,40,33,9,28,49,48,57,21,1,14,89,5,42,24,58,30,54,25,39,22,41,72,51,2,29,83,15,66,13,16,31,34,11,3,6,8,52,65,18,26,35,27,56,17],\n",
    "    7: [70,79,113,115,114,98,116,36,104,95,110,83,52,118,84,117,80,96,10,89,123,124,122,47,106,111,82,86,105,26,45,109,60,119,65,76,125,120,20,62,58,56,59,11,16,38,30,100,78,12,97,93,67,0,9,39,107,27,102,14,81,108,101,68,126,55,121,103,22,53,28,3,90,61,29,88,46,6,72,37,77,17,34,63,94,66,35,91,43,85,31,75,44,42,54,24,1,25,40,74,50,69,112,92,64,73,7,21,4,32,71,15,33,8,2,51,18,23,49,5,87,99,19,57,48,13,41],\n",
    "    8: [137,24,141,65,110,146,149,145,62,77,113,155,92,54,136,165,30,41,105,148,134,109,164,76,156,59,111,67,162,63,50,142,117,138,25,167,7,154,57,60,124,4,157,11,81,150,168,144,123,147,119,159,53,129,8,75,71,91,31,70,80,166,133,120,48,118,37,47,140,36,116,130,0,108,107,152,127,69,125,103,151,131,28,10,13,163,115,19,112,14,95,132,6,97,158,33,17,42,93,85,106,121,18,83,21,74,16,38,84,61,114,2,64,66,52,96,51,98,79,87,139,78,102,26,40,90,128,1,82,5,104,160,72,122,12,55,46,58,39,23,35,73,3,49,27,34,88,43,9,45,86,22,56,99,135,44,89,153,101,29,32,20,15,94,100,68,126,143,161],\n",
    "    9: [85,209,156,142,110,202,210,128,123,148,183,193,23,89,125,61,182,74,122,171,158,8,152,215,66,107,208,19,150,207,153,168,103,16,70,30,3,73,190,203,216,108,104,51,159,100,172,55,80,145,105,129,111,120,177,198,41,58,119,114,76,175,200,130,206,124,10,127,86,137,88,154,213,64,194,143,149,180,163,106,167,195,21,136,134,29,176,67,90,54,155,81,68,0,179,117,83,98,26,35,39,95,185,24,116,17,131,191,96,92,115,32,40,44,71,212,101,169,214,25,147,196,4,178,15,65,45,84,60,174,59,166,141,91,201,146,161,97,197,133,184,102,157,57,72,9,12,22,42,126,48,1,94,189,13,132,14,188,162,165,11,20,205,144,43,204,27,173,151,31,7,37,69,187,93,170,56,138,181,77,36,109,18,199,139,140,87,113,99,186,52,5,121,6,47,33,78,118,63,28,46,38,49,160,164,192,211,112,135,34,82,62,79,50,2,75,53],\n",
    "};"
   ]
  },
  {
   "cell_type": "code",
   "execution_count": 7,
   "id": "40aa604b",
   "metadata": {
    "ExecuteTime": {
     "end_time": "2024-10-13T01:46:43.459477Z",
     "start_time": "2024-10-13T01:46:42.663925Z"
    }
   },
   "outputs": [
    {
     "name": "stderr",
     "output_type": "stream",
     "text": [
      "Attempt 1/10, y_min=0.0, y_mean=8.8:  44%|████▍     | 88/200 [00:00<00:00, 160.39it/s]  \n"
     ]
    },
    {
     "name": "stdout",
     "output_type": "stream",
     "text": [
      "Solution found in 89 moves after 1 attempts.\n",
      "Moves sequence: 6B5A4D4E4E2F5D5C5D1F2B2A4E4B3B2F3F1D4B1F6E1A4B4E6A6F5C5C2B4D1F1B5F5F3A6E6A6D3C6C3A6C4A6D6\n"
     ]
    }
   ],
   "source": [
    "# Initialize the Searcher\n",
    "searcher = Searcher(\n",
    "    n=n,\n",
    "    distance_metric='manhattan',  # 'model', 'hamming', or 'manhattan'\n",
    "#     model=model,\n",
    "    verbose=1\n",
    ")\n",
    "\n",
    "# Prepare the initial state (scrambled puzzle)\n",
    "initial_state = torch.tensor(IC[n], dtype=torch.uint8)\n",
    "\n",
    "# Perform the search to find the solution\n",
    "solution_moves, attempts = searcher.get_solution(\n",
    "    initial_state, parity=0, B=2**15, num_steps=200, num_attempts=10\n",
    ")\n",
    "\n",
    "\n",
    "time.sleep(0.2)\n",
    "if solution_moves is not None:\n",
    "    print(f\"Solution found in {len(solution_moves)} moves after {attempts} attempts.\")\n",
    "    # Convert moves sequence to string representation\n",
    "    moves_string = searcher.moves_seq_to_string(solution_moves)\n",
    "    print(f\"Moves sequence: {moves_string}\")\n",
    "else:\n",
    "    print(f\"No solution found after {attempts} attempts.\")"
   ]
  },
  {
   "cell_type": "code",
   "execution_count": null,
   "id": "3f747ea7",
   "metadata": {},
   "outputs": [],
   "source": []
  },
  {
   "cell_type": "code",
   "execution_count": null,
   "id": "be8e02d6",
   "metadata": {},
   "outputs": [],
   "source": []
  },
  {
   "cell_type": "code",
   "execution_count": null,
   "id": "86c1f940",
   "metadata": {},
   "outputs": [],
   "source": []
  }
 ],
 "metadata": {
  "kernelspec": {
   "display_name": "Python (ka1242_env)",
   "language": "python",
   "name": "ka1242_env"
  },
  "language_info": {
   "codemirror_mode": {
    "name": "ipython",
    "version": 3
   },
   "file_extension": ".py",
   "mimetype": "text/x-python",
   "name": "python",
   "nbconvert_exporter": "python",
   "pygments_lexer": "ipython3",
   "version": "3.9.16"
  }
 },
 "nbformat": 4,
 "nbformat_minor": 5
}
